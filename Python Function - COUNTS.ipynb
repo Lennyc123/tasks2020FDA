{
 "cells": [
  {
   "cell_type": "code",
   "execution_count": 30,
   "metadata": {
    "scrolled": false
   },
   "outputs": [
    {
     "name": "stdout",
     "output_type": "stream",
     "text": [
      "{\"b\":2}\n",
      "key: {\n",
      "key: \"\n",
      "key: b\n",
      "key: \"\n",
      "key: :\n",
      "key: 2\n",
      "key: }\n"
     ]
    }
   ],
   "source": [
    "def counts(d): \n",
    "      \n",
    "    for key in d: \n",
    "        print(\"key:\", key) \n",
    "          \n",
    "# Driver's code \n",
    "D = input()\n",
    "counts(D) "
   ]
  },
  {
   "cell_type": "code",
   "execution_count": 29,
   "metadata": {},
   "outputs": [
    {
     "data": {
      "text/plain": [
       "('A', 'A', 'B', 'C', 'A')"
      ]
     },
     "execution_count": 29,
     "metadata": {},
     "output_type": "execute_result"
    }
   ],
   "source": [
    "'A', 'A', 'B', 'C', 'A'"
   ]
  },
  {
   "cell_type": "code",
   "execution_count": null,
   "metadata": {},
   "outputs": [],
   "source": []
  }
 ],
 "metadata": {
  "kernelspec": {
   "display_name": "Python 3",
   "language": "python",
   "name": "python3"
  },
  "language_info": {
   "codemirror_mode": {
    "name": "ipython",
    "version": 3
   },
   "file_extension": ".py",
   "mimetype": "text/x-python",
   "name": "python",
   "nbconvert_exporter": "python",
   "pygments_lexer": "ipython3",
   "version": "3.8.3"
  }
 },
 "nbformat": 4,
 "nbformat_minor": 4
}
