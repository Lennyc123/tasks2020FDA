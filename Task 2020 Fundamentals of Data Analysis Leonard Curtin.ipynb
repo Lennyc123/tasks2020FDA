{
 "cells": [
  {
   "cell_type": "markdown",
   "metadata": {
    "scrolled": false
   },
   "source": [
    "# Tasks 2020 - Fundamentals of Data Analysis\n",
    "Contained within the following jupyter notebook are solutions to the Tasks Assessment. Authored by Leonard Curtin\n",
    "\n",
    "***\n",
    "\n"
   ]
  },
  {
   "cell_type": "markdown",
   "metadata": {},
   "source": [
    "## Task 5th October - Creation of function called \"counts\"\n"
   ]
  },
  {
   "cell_type": "markdown",
   "metadata": {},
   "source": [
    "The aim of the following task is to create a _function_ that takes a _list_ as an _input_ and returns a _dictionary_ of unique items in the list as _keys_ and the number of times each item appears as _values_.\n",
    "\n"
   ]
  },
  {
   "cell_type": "code",
   "execution_count": null,
   "metadata": {},
   "outputs": [],
   "source": [
    "# Creation of Function\n",
    "def counts():\n",
    "    # User is prompted to provide their list\n",
    "    xs = input(\"Please enter your list:\")\n",
    "    # Creation of blank dictionary\n",
    "    new_dict = {}\n",
    "    \n",
    "    # For loop cycles through the length of user provided list\n",
    "    for i in range(len(xs)):\n",
    "        # Key is provided within the dictionary and the number of occurances of this key is provided as a value\n",
    "        new_dict[xs[i]] = xs.count(xs[i])\n",
    "        \n",
    "    # Dictionary is printed    \n",
    "    print(new_dict)\n",
    "\n",
    "counts()\n"
   ]
  },
  {
   "cell_type": "markdown",
   "metadata": {},
   "source": [
    "### References\n",
    "[1] w3schools.com, python functions; creation of a python function; https://www.w3schools.com/python/python_functions.asp\n",
    "\n",
    "[2] hackereatch.com, Python input and output; prompting user to provide input; https://www.hackerearth.com/practice/python/getting-started/input-and-output/tutorial/#:~:text=Input%20using%20the%20input(%20)%20function&text=Python%20has%20an%20input%20function,3%2C%20you%20have%20input()%20.\n",
    "\n",
    "[3] w3schools.com, python dictionaries; creation of python dictionary; https://www.w3schools.com/python/python_dictionaries.asp\n",
    "\n",
    "[4] w3schools.com, python for loops; usage of the range() function; https://www.w3schools.com/python/python_for_loops.asp"
   ]
  },
  {
   "cell_type": "markdown",
   "metadata": {},
   "source": [
    "***"
   ]
  },
  {
   "cell_type": "markdown",
   "metadata": {},
   "source": [
    "## Task 2nd November - Creation of function called \"dicerolls\""
   ]
  },
  {
   "cell_type": "code",
   "execution_count": null,
   "metadata": {},
   "outputs": [],
   "source": [
    "Insert description of the task within this field"
   ]
  },
  {
   "cell_type": "code",
   "execution_count": null,
   "metadata": {
    "scrolled": true
   },
   "outputs": [],
   "source": [
    "def dicerolls(k, n):\n",
    "    print(k, n)\n",
    "    \n",
    "dicerolls(k=1, n=5)\n",
    "    "
   ]
  },
  {
   "cell_type": "code",
   "execution_count": 33,
   "metadata": {},
   "outputs": [
    {
     "name": "stdout",
     "output_type": "stream",
     "text": [
      "15\n"
     ]
    }
   ],
   "source": [
    "import random\n",
    "\n",
    "\n",
    "    \n",
    "# if more than 1 dice is being used\n",
    "a = 2\n",
    "one = 1\n",
    "\n",
    "min_value = 1\n",
    "max_value = 6\n",
    "\n",
    "if a > one:\n",
    "    min_value = min_value + a * 1\n",
    "    max_value = max_value + a * 6\n",
    "    \n",
    "\n",
    "\n",
    "k = random.randint(min_value, max_value)\n",
    "\n",
    "\n",
    "\n",
    "\n",
    "\n",
    "    \n",
    "\n",
    "print(k)\n",
    "\n",
    "\n"
   ]
  },
  {
   "cell_type": "code",
   "execution_count": 4,
   "metadata": {},
   "outputs": [
    {
     "ename": "SyntaxError",
     "evalue": "invalid syntax (<ipython-input-4-742b3222523d>, line 6)",
     "output_type": "error",
     "traceback": [
      "\u001b[1;36m  File \u001b[1;32m\"<ipython-input-4-742b3222523d>\"\u001b[1;36m, line \u001b[1;32m6\u001b[0m\n\u001b[1;33m    dice = for i in range(min_value, max_value)\u001b[0m\n\u001b[1;37m           ^\u001b[0m\n\u001b[1;31mSyntaxError\u001b[0m\u001b[1;31m:\u001b[0m invalid syntax\n"
     ]
    }
   ],
   "source": [
    "import random\n",
    "def dicerolls(k, n):\n",
    "    min_value = 1\n",
    "    max_value = 6\n",
    "    \n",
    "    k = \n",
    "    dict1 = {}\n",
    "print()\n"
   ]
  },
  {
   "cell_type": "code",
   "execution_count": null,
   "metadata": {},
   "outputs": [],
   "source": [
    "References"
   ]
  }
 ],
 "metadata": {
  "kernelspec": {
   "display_name": "Python 3",
   "language": "python",
   "name": "python3"
  },
  "language_info": {
   "codemirror_mode": {
    "name": "ipython",
    "version": 3
   },
   "file_extension": ".py",
   "mimetype": "text/x-python",
   "name": "python",
   "nbconvert_exporter": "python",
   "pygments_lexer": "ipython3",
   "version": "3.8.3"
  }
 },
 "nbformat": 4,
 "nbformat_minor": 4
}
