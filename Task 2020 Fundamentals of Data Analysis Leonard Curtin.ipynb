{
 "cells": [
  {
   "cell_type": "markdown",
   "metadata": {
    "scrolled": false
   },
   "source": [
    "# Tasks 2020 - Fundamentals of Data Analysis\n",
    "Contained within the following jupyter notebook are solutions to the Tasks Assessment. Authored by Leonard Curtin\n",
    "\n",
    "***\n",
    "\n"
   ]
  },
  {
   "cell_type": "markdown",
   "metadata": {},
   "source": [
    "## Task 5th October - Creation of function called \"counts\"\n"
   ]
  },
  {
   "cell_type": "markdown",
   "metadata": {},
   "source": [
    "The aim of the following task is to create a _function_ that takes a _list_ as an _input_ and returns a _dictionary_ of unique items in the list as _keys_ and the number of times each item appears as _values_.\n",
    "\n"
   ]
  },
  {
   "cell_type": "code",
   "execution_count": 74,
   "metadata": {},
   "outputs": [
    {
     "name": "stdout",
     "output_type": "stream",
     "text": [
      "Please enter your list:bbbaaa\n",
      "{'b': 3, 'a': 3}\n"
     ]
    }
   ],
   "source": [
    "# Creation of Function\n",
    "def counts():\n",
    "    # User is prompted to provide their list\n",
    "    xs = input(\"Please enter your list:\")\n",
    "    # Creation of blank dictionary\n",
    "    new_dict = {}\n",
    "    \n",
    "    # For loop cycles through the length of user provided list\n",
    "    for i in range(len(xs)):\n",
    "        # Key is provided within the dictionary and the number of occurances of this key is provided as a value\n",
    "        new_dict[xs[i]] = xs.count(xs[i])\n",
    "        \n",
    "    # Dictionary is printed    \n",
    "    print(new_dict)\n",
    "\n",
    "counts()\n"
   ]
  },
  {
   "cell_type": "markdown",
   "metadata": {},
   "source": [
    "### References\n",
    "[1] w3schools.com, python functions; creation of a python function; https://www.w3schools.com/python/python_functions.asp\n",
    "\n",
    "[2] hackereatch.com, Python input and output; prompting user to provide input; https://www.hackerearth.com/practice/python/getting-started/input-and-output/tutorial/#:~:text=Input%20using%20the%20input(%20)%20function&text=Python%20has%20an%20input%20function,3%2C%20you%20have%20input()%20.\n",
    "\n",
    "[3] w3schools.com, python dictionaries; creation of python dictionary; https://www.w3schools.com/python/python_dictionaries.asp\n",
    "\n",
    "[4] w3schools.com, python for loops; usage of the range() function; https://www.w3schools.com/python/python_for_loops.asp"
   ]
  },
  {
   "cell_type": "markdown",
   "metadata": {},
   "source": [
    "***"
   ]
  },
  {
   "cell_type": "markdown",
   "metadata": {},
   "source": [
    "## Task 2nd November - Creation of function called \"dicerolls\""
   ]
  },
  {
   "cell_type": "code",
   "execution_count": null,
   "metadata": {},
   "outputs": [],
   "source": [
    "Insert description of the task within this field"
   ]
  },
  {
   "cell_type": "code",
   "execution_count": 145,
   "metadata": {},
   "outputs": [
    {
     "name": "stdout",
     "output_type": "stream",
     "text": [
      "4\n",
      "5\n",
      "5\n",
      "3\n",
      "4\n"
     ]
    }
   ],
   "source": [
    "import random\n",
    "def diceroll(k, n):\n",
    "    new_dict = {}\n",
    "    min = 1\n",
    "    max = 6\n",
    "    if k > 1:\n",
    "            min = k * 1\n",
    "            max = k * 6\n",
    "    \n",
    "    for i in range(n):\n",
    "        dice = (random.randint(min, max))\n",
    "        \n",
    "        new_dict \n",
    "        print(dice)\n",
    "    \n",
    "    \n",
    "    \n",
    "    \n",
    "\n",
    "diceroll(k=1, n=5)"
   ]
  },
  {
   "cell_type": "code",
   "execution_count": null,
   "metadata": {},
   "outputs": [],
   "source": [
    "References"
   ]
  }
 ],
 "metadata": {
  "kernelspec": {
   "display_name": "Python 3",
   "language": "python",
   "name": "python3"
  },
  "language_info": {
   "codemirror_mode": {
    "name": "ipython",
    "version": 3
   },
   "file_extension": ".py",
   "mimetype": "text/x-python",
   "name": "python",
   "nbconvert_exporter": "python",
   "pygments_lexer": "ipython3",
   "version": "3.8.3"
  }
 },
 "nbformat": 4,
 "nbformat_minor": 4
}
