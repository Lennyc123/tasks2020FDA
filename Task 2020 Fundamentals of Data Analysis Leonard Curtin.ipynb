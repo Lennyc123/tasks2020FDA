{
 "cells": [
  {
   "cell_type": "markdown",
   "metadata": {
    "scrolled": false
   },
   "source": [
    "# Tasks 2020 - Fundamentals of Data Analysis\n",
    "Contained within the following jupyter notebook are solutions to the Tasks Assessment. Authored by Leonard Curtin\n",
    "\n",
    "***\n",
    "\n"
   ]
  },
  {
   "cell_type": "markdown",
   "metadata": {},
   "source": [
    "## Task 5th October - Creation of function called \"counts\"\n"
   ]
  },
  {
   "cell_type": "markdown",
   "metadata": {},
   "source": [
    "The aim of the following task is to create a _function_ that takes a _list_ as an _input_ and returns a _dictionary_ of unique items in the list as _keys_ and the number of times each item appears as _values_.\n",
    "\n"
   ]
  },
  {
   "cell_type": "code",
   "execution_count": null,
   "metadata": {},
   "outputs": [],
   "source": [
    "# Creation of Function\n",
    "def counts():\n",
    "    # User is prompted to provide their list\n",
    "    xs = input(\"Please enter your list:\")\n",
    "    # Creation of blank dictionary\n",
    "    new_dict = {}\n",
    "    \n",
    "    # For loop cycles through the length of user provided list\n",
    "    for i in range(len(xs)):\n",
    "        # Key is provided within the dictionary and the number of occurances of this key is provided as a value\n",
    "        new_dict[xs[i]] = xs.count(xs[i])\n",
    "        \n",
    "    # Dictionary is printed    \n",
    "    print(new_dict)\n",
    "\n",
    "counts()\n"
   ]
  },
  {
   "cell_type": "markdown",
   "metadata": {},
   "source": [
    "### References\n",
    "[1] w3schools.com, python functions; creation of a python function; https://www.w3schools.com/python/python_functions.asp\n",
    "\n",
    "[2] hackereatch.com, Python input and output; prompting user to provide input; https://www.hackerearth.com/practice/python/getting-started/input-and-output/tutorial/#:~:text=Input%20using%20the%20input(%20)%20function&text=Python%20has%20an%20input%20function,3%2C%20you%20have%20input()%20.\n",
    "\n",
    "[3] w3schools.com, python dictionaries; creation of python dictionary; https://www.w3schools.com/python/python_dictionaries.asp\n",
    "\n",
    "[4] w3schools.com, python for loops; usage of the range() function; https://www.w3schools.com/python/python_for_loops.asp"
   ]
  },
  {
   "cell_type": "markdown",
   "metadata": {},
   "source": [
    "***"
   ]
  },
  {
   "cell_type": "markdown",
   "metadata": {},
   "source": [
    "## Task 2nd November - Creation of function called \"dicerolls\""
   ]
  },
  {
   "cell_type": "code",
   "execution_count": null,
   "metadata": {},
   "outputs": [],
   "source": [
    "Insert description of the task within this field"
   ]
  },
  {
   "cell_type": "code",
   "execution_count": 92,
   "metadata": {},
   "outputs": [],
   "source": [
    "import random\n",
    "def diceroll(k, n):\n",
    "    \n",
    "    new_dict = {}\n",
    "    \n",
    "    min_value = 1\n",
    "    max_value = 6\n",
    "    if k > 1:\n",
    "        min_value = k * 1\n",
    "        max_value = k * 6\n",
    "        \n",
    "    for i in range(n):\n",
    "        dice = (random.randint(min_value, max_value))\n",
    "        print(dice)\n",
    "        \n",
    "        new_dict[i] = 0\n",
    "        \n",
    "        \n",
    "    print(new_dict)\n",
    "        \n",
    "        \n",
    "        \n",
    "diceroll(k=2, n=5)"
   ]
  },
  {
   "cell_type": "code",
   "execution_count": 93,
   "metadata": {},
   "outputs": [
    {
     "data": {
      "text/plain": [
       "{1: 1, 2: 1, 3: 0, 4: 3, 5: 0, 6: 1, 7: 1, 8: 0, 9: 1, 10: 0, 11: 2, 12: 0}"
      ]
     },
     "execution_count": 93,
     "metadata": {},
     "output_type": "execute_result"
    }
   ],
   "source": [
    "roll(k=2, n=10)"
   ]
  },
  {
   "cell_type": "code",
   "execution_count": 39,
   "metadata": {},
   "outputs": [],
   "source": [
    "import random\n",
    "def dicerolls(k, n):\n",
    "    \n",
    "    min_value = 1\n",
    "    max_value = 6\n",
    "    if k > 1:\n",
    "        min_value = k * 1\n",
    "        max_value = k * 6\n",
    "        \n",
    "    dice = {i:0 for i in range(1, max_value + 1)}\n",
    "    for i in range(n):\n",
    "        dice[random.randint(1, max_value)] += 1\n",
    "    return(dice)"
   ]
  },
  {
   "cell_type": "code",
   "execution_count": 79,
   "metadata": {},
   "outputs": [
    {
     "data": {
      "text/plain": [
       "{1: 93,\n",
       " 2: 73,\n",
       " 3: 92,\n",
       " 4: 86,\n",
       " 5: 82,\n",
       " 6: 89,\n",
       " 7: 79,\n",
       " 8: 80,\n",
       " 9: 92,\n",
       " 10: 83,\n",
       " 11: 91,\n",
       " 12: 60}"
      ]
     },
     "execution_count": 79,
     "metadata": {},
     "output_type": "execute_result"
    }
   ],
   "source": [
    "dicerolls(k=2, n=1000)"
   ]
  },
  {
   "cell_type": "code",
   "execution_count": null,
   "metadata": {},
   "outputs": [],
   "source": [
    "references"
   ]
  },
  {
   "cell_type": "code",
   "execution_count": null,
   "metadata": {},
   "outputs": [],
   "source": []
  }
 ],
 "metadata": {
  "kernelspec": {
   "display_name": "Python 3",
   "language": "python",
   "name": "python3"
  },
  "language_info": {
   "codemirror_mode": {
    "name": "ipython",
    "version": 3
   },
   "file_extension": ".py",
   "mimetype": "text/x-python",
   "name": "python",
   "nbconvert_exporter": "python",
   "pygments_lexer": "ipython3",
   "version": "3.8.3"
  }
 },
 "nbformat": 4,
 "nbformat_minor": 4
}
