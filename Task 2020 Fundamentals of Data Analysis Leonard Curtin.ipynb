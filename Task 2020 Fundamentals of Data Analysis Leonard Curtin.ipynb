{
 "cells": [
  {
   "cell_type": "markdown",
   "metadata": {
    "scrolled": false
   },
   "source": [
    "# Tasks 2020 - Fundamentals of Data Analysis\n",
    "Contained within the following jupyter notebook are solutions to the Tasks Assessment. Authored by Leonard Curtin\n",
    "\n",
    "***\n",
    "\n"
   ]
  },
  {
   "cell_type": "markdown",
   "metadata": {},
   "source": [
    "## Task 5th October - Creation of function called \"counts\"\n"
   ]
  },
  {
   "cell_type": "markdown",
   "metadata": {},
   "source": [
    "The aim of the following task is to create a _function_ that takes a _list_ as an _input_ and returns a _dictionary_ of unique items in the list as _keys_ and the number of times each item appears as _values_.\n",
    "\n"
   ]
  },
  {
   "cell_type": "code",
   "execution_count": null,
   "metadata": {},
   "outputs": [],
   "source": [
    "# Creation of Function\n",
    "def counts():\n",
    "    # User is prompted to provide their list\n",
    "    xs = input(\"Please enter your list:\")\n",
    "    # Creation of blank dictionary\n",
    "    new_dict = {}\n",
    "    \n",
    "    # For loop cycles through the length of user provided list\n",
    "    for i in range(len(xs)):\n",
    "        # Key is provided within the dictionary and the number of occurances of this key is provided as a value\n",
    "        new_dict[xs[i]] = xs.count(xs[i])\n",
    "        \n",
    "    # Dictionary is printed    \n",
    "    print(new_dict)\n",
    "\n"
   ]
  },
  {
   "cell_type": "code",
   "execution_count": null,
   "metadata": {},
   "outputs": [],
   "source": [
    "#Calling the function counts i.e. user will be prompted to provide their list as an input.\n",
    "counts()"
   ]
  },
  {
   "cell_type": "markdown",
   "metadata": {},
   "source": [
    "### References\n",
    "[1] w3schools.com, python functions; creation of a python function; https://www.w3schools.com/python/python_functions.asp\n",
    "\n",
    "[2] hackereatch.com, Python input and output; prompting user to provide input; https://www.hackerearth.com/practice/python/getting-started/input-and-output/tutorial/#:~:text=Input%20using%20the%20input(%20)%20function&text=Python%20has%20an%20input%20function,3%2C%20you%20have%20input()%20.\n",
    "\n",
    "[3] w3schools.com, python dictionaries; creation of python dictionary; https://www.w3schools.com/python/python_dictionaries.asp\n",
    "\n",
    "[4] w3schools.com, python for loops; usage of the range() function; https://www.w3schools.com/python/python_for_loops.asp"
   ]
  },
  {
   "cell_type": "markdown",
   "metadata": {},
   "source": [
    "***"
   ]
  },
  {
   "cell_type": "markdown",
   "metadata": {},
   "source": [
    "## Task 2nd November - Creation of function called \"dicerolls\""
   ]
  },
  {
   "cell_type": "markdown",
   "metadata": {},
   "source": [
    "The aim of the following task is to create a function, that simulates rolling dice. \n",
    "\n",
    "The function takes in two parameters: _k_ - the number of dice and  _n_ - the number of times to roll the dice.\n",
    "_k_ dice is rolled _n_ times and the value which the dice/die lands on is recorded. These values are stored within a _dictionary_ that depicts the number of times each face value occured."
   ]
  },
  {
   "cell_type": "code",
   "execution_count": 2,
   "metadata": {},
   "outputs": [],
   "source": [
    "# Random module is imported.\n",
    "import random\n",
    "\n",
    "#Creation of the function \"dicerolls\" with parameters \"k\" and \"n\".\n",
    "def dicerolls(k, n):\n",
    "    \n",
    "    # code specifing how variable \"k\" is to function i.e. the number of dice to roll i.e.\n",
    "    min_value = 1\n",
    "    max_value = 6\n",
    "    if k > 1:\n",
    "        #settings values for the min,max when more than 1 dice is in use.\n",
    "        min_value = k * 1\n",
    "        max_value = k * 6\n",
    "    \n",
    "    #Creation of dictionary to store the counted face values within.\n",
    "    dice = {i:0 for i in range(min_value, max_value + 1)}\n",
    "    \n",
    "    #Creation of for loop that iterates through the range of \"n\"\n",
    "    for i in range(n):\n",
    "        # within the dictionary structure, each value is increased if the dictionaries key duplicates.\n",
    "        dice[random.randint(min_value, max_value)] += 1\n",
    "    return(dice)"
   ]
  },
  {
   "cell_type": "code",
   "execution_count": 3,
   "metadata": {},
   "outputs": [
    {
     "data": {
      "text/plain": [
       "{2: 86,\n",
       " 3: 77,\n",
       " 4: 80,\n",
       " 5: 102,\n",
       " 6: 81,\n",
       " 7: 110,\n",
       " 8: 100,\n",
       " 9: 78,\n",
       " 10: 93,\n",
       " 11: 90,\n",
       " 12: 103}"
      ]
     },
     "execution_count": 3,
     "metadata": {},
     "output_type": "execute_result"
    }
   ],
   "source": [
    "# Function \"dicerolls\" is called and values are given to arguments \"k\" and \"n\"\n",
    "dicerolls(k=2, n=1000)"
   ]
  },
  {
   "cell_type": "markdown",
   "metadata": {},
   "source": [
    "### References\n",
    "[1] Python documentation, python random module; random — Generate pseudo-random numbers; https://docs.python.org/3/library/random.html\n",
    "\n",
    "[2] w3schools.com, python functions; creation of a python function; https://www.w3schools.com/python/python_functions.asp\n",
    "\n",
    "[3] w3schools.com, python Conditions and if Statements; setting conditions for the min and max value; https://www.w3schools.com/python/python_conditions.asp\n",
    "\n",
    "[4] w3schools.com, python dictionaries; creation of python dictionary; https://www.w3schools.com/python/python_dictionaries.asp\n",
    "\n",
    "[5] w3schools.com, python for loops; usage of the range() function; https://www.w3schools.com/python/python_for_loops.asp"
   ]
  },
  {
   "cell_type": "code",
   "execution_count": null,
   "metadata": {},
   "outputs": [],
   "source": []
  }
 ],
 "metadata": {
  "kernelspec": {
   "display_name": "Python 3",
   "language": "python",
   "name": "python3"
  },
  "language_info": {
   "codemirror_mode": {
    "name": "ipython",
    "version": 3
   },
   "file_extension": ".py",
   "mimetype": "text/x-python",
   "name": "python",
   "nbconvert_exporter": "python",
   "pygments_lexer": "ipython3",
   "version": "3.8.3"
  }
 },
 "nbformat": 4,
 "nbformat_minor": 4
}
