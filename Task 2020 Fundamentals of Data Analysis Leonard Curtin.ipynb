{
 "cells": [
  {
   "cell_type": "markdown",
   "metadata": {
    "scrolled": false
   },
   "source": [
    "# Tasks 2020 - Fundamentals of Data Analysis\n",
    "Contained within the following jupyter notebook are solutions to the Tasks Assessment. Authored by Leonard Curtin\n",
    "\n",
    "***\n",
    "\n"
   ]
  },
  {
   "cell_type": "markdown",
   "metadata": {},
   "source": [
    "## Task 5th October - Creation of function called \"counts\"\n"
   ]
  },
  {
   "cell_type": "markdown",
   "metadata": {},
   "source": [
    "The aim of the following task is to create a _function_ that takes a _list_ as an _input_ and returns a _dictionary_ of unique items in the list as _keys_ and the number of times each item appears as _values_.\n",
    "\n"
   ]
  },
  {
   "cell_type": "code",
   "execution_count": null,
   "metadata": {},
   "outputs": [],
   "source": [
    "# Creation of Function\n",
    "def counts():\n",
    "    # User is prompted to provide their list\n",
    "    xs = input(\"Please enter your list:\")\n",
    "    # Creation of blank dictionary\n",
    "    new_dict = {}\n",
    "    \n",
    "    # For loop cycles through the length of user provided list\n",
    "    for i in range(len(xs)):\n",
    "        # Key is provided within the dictionary and the number of occurances of this key is provided as a value\n",
    "        new_dict[xs[i]] = xs.count(xs[i])\n",
    "        \n",
    "    # Dictionary is printed    \n",
    "    print(new_dict)\n",
    "\n"
   ]
  },
  {
   "cell_type": "code",
   "execution_count": null,
   "metadata": {},
   "outputs": [],
   "source": [
    "#Calling the function counts i.e. user will be prompted to provide their list as an input.\n",
    "counts()"
   ]
  },
  {
   "cell_type": "markdown",
   "metadata": {},
   "source": [
    "### References\n",
    "[1] w3schools.com, python functions; creation of a python function; https://www.w3schools.com/python/python_functions.asp\n",
    "\n",
    "[2] hackereatch.com, Python input and output; prompting user to provide input; https://www.hackerearth.com/practice/python/getting-started/input-and-output/tutorial/#:~:text=Input%20using%20the%20input(%20)%20function&text=Python%20has%20an%20input%20function,3%2C%20you%20have%20input()%20.\n",
    "\n",
    "[3] w3schools.com, python dictionaries; creation of python dictionary; https://www.w3schools.com/python/python_dictionaries.asp\n",
    "\n",
    "[4] w3schools.com, python for loops; usage of the range() function; https://www.w3schools.com/python/python_for_loops.asp"
   ]
  },
  {
   "cell_type": "markdown",
   "metadata": {},
   "source": [
    "***"
   ]
  },
  {
   "cell_type": "markdown",
   "metadata": {},
   "source": [
    "## Task 2nd November - Creation of function called \"dicerolls\""
   ]
  },
  {
   "cell_type": "markdown",
   "metadata": {},
   "source": [
    "The aim of the following task is to create a function, that simulates rolling dice. \n",
    "\n",
    "The function takes in two parameters: _k_ - the number of dice and  _n_ - the number of times to roll the dice.\n",
    "_k_ dice is rolled _n_ times and the value which the dice/die lands on is recorded. These values are stored within a _dictionary_ that depicts the number of times each face value occured."
   ]
  },
  {
   "cell_type": "code",
   "execution_count": null,
   "metadata": {},
   "outputs": [],
   "source": [
    "# Random module is imported.\n",
    "import random\n",
    "\n",
    "#Creation of the function \"dicerolls\" with parameters \"k\" and \"n\".\n",
    "def dicerolls(k, n):\n",
    "    \n",
    "    # code specifing how variable \"k\" is to function i.e. the number of dice to roll i.e.\n",
    "    min_value = 1\n",
    "    max_value = 6\n",
    "    if k > 1:\n",
    "        #settings values for the min,max when more than 1 dice is in use.\n",
    "        min_value = k * 1\n",
    "        max_value = k * 6\n",
    "    \n",
    "    #Creation of dictionary to store the counted face values within.\n",
    "    dice = {i:0 for i in range(min_value, max_value + 1)}\n",
    "    \n",
    "    #Creation of for loop that iterates through the range of \"n\"\n",
    "    for i in range(n):\n",
    "        # within the dictionary structure, each value is increased if the dictionaries key duplicates.\n",
    "        dice[random.randint(min_value, max_value)] += 1\n",
    "    return(dice)"
   ]
  },
  {
   "cell_type": "code",
   "execution_count": null,
   "metadata": {},
   "outputs": [],
   "source": [
    "# Function \"dicerolls\" is called and values are given to arguments \"k\" and \"n\"\n",
    "dicerolls(k=2, n=1000)"
   ]
  },
  {
   "cell_type": "markdown",
   "metadata": {},
   "source": [
    "### References\n",
    "[1] Python documentation, python random module; random — Generate pseudo-random numbers; https://docs.python.org/3/library/random.html\n",
    "\n",
    "[2] w3schools.com, python functions; creation of a python function; https://www.w3schools.com/python/python_functions.asp\n",
    "\n",
    "[3] w3schools.com, python Conditions and if Statements; setting conditions for the min and max value; https://www.w3schools.com/python/python_conditions.asp\n",
    "\n",
    "[4] w3schools.com, python dictionaries; creation of python dictionary; https://www.w3schools.com/python/python_dictionaries.asp\n",
    "\n",
    "[5] w3schools.com, python for loops; usage of the range() function; https://www.w3schools.com/python/python_for_loops.asp"
   ]
  },
  {
   "cell_type": "markdown",
   "metadata": {},
   "source": [
    "## Task 16th November - Flipping a coin simulation"
   ]
  },
  {
   "cell_type": "markdown",
   "metadata": {},
   "source": [
    "Usage of a random number generator to create a simulation of flipping a coin. This occured through the usage of the numpy.random sub package of the numpy library. Samples were drawn from a binomial distribution in order to simulate a coin landing on heads or tails [1].\n",
    "\n",
    "In particular the following task focuses on the instances of the coin landing on heads."
   ]
  },
  {
   "cell_type": "code",
   "execution_count": 2,
   "metadata": {},
   "outputs": [],
   "source": [
    "# Import numpy and utilise its default random number generator\n",
    "import numpy as np\n",
    "rng = np.random.default_rng()"
   ]
  },
  {
   "cell_type": "markdown",
   "metadata": {},
   "source": [
    "The code below depicts the coin being flipped 100 times, this is then simulated 1000 times. The number of instances of which the coin lands on heads is counted."
   ]
  },
  {
   "cell_type": "code",
   "execution_count": 3,
   "metadata": {},
   "outputs": [
    {
     "data": {
      "text/plain": [
       "array([50, 50, 56, 55, 52, 58, 46, 36, 47, 53, 46, 56, 57, 52, 50, 48, 45,\n",
       "       48, 55, 46, 60, 61, 58, 42, 44, 53, 48, 47, 59, 53, 44, 49, 46, 48,\n",
       "       54, 48, 52, 42, 48, 53, 57, 45, 55, 52, 58, 53, 47, 54, 54, 51, 41,\n",
       "       45, 54, 55, 55, 56, 51, 56, 54, 58, 52, 53, 47, 58, 57, 55, 56, 56,\n",
       "       52, 52, 45, 54, 59, 50, 53, 56, 51, 47, 54, 47, 46, 45, 48, 50, 43,\n",
       "       52, 53, 55, 44, 48, 60, 46, 53, 49, 57, 59, 54, 46, 43, 49, 49, 50,\n",
       "       49, 52, 45, 54, 50, 51, 44, 47, 50, 51, 50, 59, 47, 49, 48, 50, 54,\n",
       "       59, 49, 50, 55, 55, 50, 53, 51, 57, 41, 41, 44, 52, 42, 51, 53, 50,\n",
       "       48, 51, 51, 59, 50, 54, 43, 44, 49, 54, 50, 55, 56, 53, 41, 50, 54,\n",
       "       58, 55, 47, 52, 49, 46, 50, 51, 59, 54, 46, 57, 50, 39, 49, 60, 41,\n",
       "       59, 49, 46, 46, 50, 46, 51, 50, 54, 48, 49, 54, 54, 52, 51, 51, 44,\n",
       "       49, 56, 49, 54, 53, 50, 54, 43, 60, 47, 48, 48, 54, 47, 45, 56, 48,\n",
       "       42, 45, 52, 52, 53, 49, 54, 45, 52, 48, 46, 49, 42, 45, 62, 54, 52,\n",
       "       57, 46, 48, 43, 53, 45, 49, 43, 44, 50, 51, 57, 48, 55, 54, 50, 47,\n",
       "       55, 46, 49, 49, 53, 43, 50, 51, 51, 44, 46, 53, 49, 59, 50, 51, 54,\n",
       "       54, 52, 35, 52, 48, 58, 50, 46, 48, 48, 56, 50, 55, 46, 50, 49, 53,\n",
       "       50, 45, 45, 55, 57, 47, 41, 49, 57, 50, 53, 50, 46, 49, 46, 44, 54,\n",
       "       52, 47, 47, 50, 53, 42, 52, 57, 43, 47, 56, 42, 55, 55, 37, 51, 57,\n",
       "       47, 50, 49, 47, 48, 37, 54, 48, 53, 41, 42, 49, 52, 50, 54, 50, 44,\n",
       "       48, 42, 44, 49, 42, 42, 54, 61, 59, 54, 50, 53, 50, 49, 51, 52, 52,\n",
       "       49, 49, 50, 57, 55, 59, 45, 52, 60, 47, 53, 50, 47, 54, 45, 47, 52,\n",
       "       64, 45, 48, 54, 43, 52, 38, 45, 50, 42, 46, 48, 53, 57, 39, 53, 51,\n",
       "       47, 51, 45, 55, 50, 50, 49, 61, 52, 46, 51, 50, 53, 45, 51, 51, 44,\n",
       "       42, 56, 56, 45, 56, 52, 47, 46, 49, 56, 46, 49, 44, 53, 45, 49, 51,\n",
       "       50, 59, 53, 56, 57, 58, 44, 50, 50, 55, 47, 49, 65, 47, 51, 50, 50,\n",
       "       53, 52, 53, 45, 51, 51, 47, 54, 41, 52, 54, 51, 42, 59, 56, 60, 53,\n",
       "       40, 39, 55, 54, 53, 54, 50, 58, 52, 49, 50, 45, 47, 47, 43, 50, 54,\n",
       "       50, 45, 51, 55, 49, 42, 49, 48, 52, 57, 43, 50, 53, 49, 45, 46, 35,\n",
       "       54, 60, 48, 53, 47, 48, 48, 56, 56, 46, 51, 49, 42, 56, 52, 53, 44,\n",
       "       50, 58, 57, 51, 47, 50, 47, 45, 52, 45, 43, 51, 48, 43, 44, 52, 49,\n",
       "       44, 47, 44, 49, 45, 48, 46, 57, 45, 56, 51, 43, 43, 49, 54, 55, 46,\n",
       "       53, 51, 50, 53, 56, 52, 52, 58, 58, 55, 55, 49, 42, 44, 42, 53, 52,\n",
       "       61, 44, 51, 53, 53, 48, 44, 49, 49, 47, 42, 52, 58, 46, 42, 48, 55,\n",
       "       50, 45, 50, 58, 48, 50, 44, 48, 47, 50, 52, 46, 60, 40, 58, 51, 52,\n",
       "       49, 47, 48, 50, 46, 49, 50, 51, 57, 53, 50, 58, 49, 49, 53, 50, 46,\n",
       "       44, 48, 58, 49, 53, 48, 49, 50, 50, 43, 61, 41, 50, 52, 49, 41, 55,\n",
       "       56, 44, 44, 52, 49, 46, 54, 46, 50, 45, 48, 43, 47, 50, 55, 45, 52,\n",
       "       48, 57, 49, 54, 50, 51, 46, 44, 47, 46, 56, 48, 49, 51, 49, 49, 45,\n",
       "       54, 50, 51, 59, 47, 52, 52, 52, 54, 50, 54, 52, 44, 53, 40, 56, 49,\n",
       "       52, 55, 46, 44, 53, 49, 58, 47, 53, 44, 45, 52, 59, 42, 44, 53, 59,\n",
       "       46, 56, 44, 43, 45, 48, 56, 50, 57, 54, 48, 48, 58, 52, 48, 52, 55,\n",
       "       56, 58, 49, 50, 53, 49, 46, 57, 62, 49, 56, 57, 59, 42, 59, 38, 50,\n",
       "       49, 57, 53, 50, 55, 52, 55, 51, 52, 34, 53, 45, 56, 49, 52, 54, 45,\n",
       "       56, 52, 42, 41, 51, 50, 44, 52, 46, 46, 52, 54, 52, 51, 46, 52, 58,\n",
       "       54, 45, 50, 54, 63, 48, 61, 47, 51, 48, 49, 39, 54, 42, 51, 42, 46,\n",
       "       57, 61, 54, 55, 53, 56, 52, 45, 51, 47, 44, 57, 52, 58, 55, 52, 50,\n",
       "       42, 45, 41, 52, 51, 51, 52, 56, 56, 48, 66, 53, 44, 57, 48, 45, 52,\n",
       "       65, 45, 47, 58, 49, 48, 42, 47, 56, 50, 50, 48, 54, 46, 45, 53, 44,\n",
       "       52, 48, 48, 45, 54, 47, 48, 44, 52, 47, 52, 44, 51, 53, 48, 56, 55,\n",
       "       47, 60, 52, 53, 54, 44, 44, 57, 45, 57, 40, 49, 53, 42, 57, 52, 53,\n",
       "       58, 47, 52, 43, 47, 45, 48, 50, 57, 53, 55, 54, 63, 49, 57, 48, 58,\n",
       "       53, 49, 52, 54, 48, 48, 47, 55, 50, 52, 55, 51, 51, 45, 52, 48, 45,\n",
       "       58, 57, 49, 57, 48, 57, 61, 50, 47, 43, 42, 37, 53, 61, 51, 55, 45,\n",
       "       50, 53, 51, 49, 41, 53, 50, 59, 37, 44, 61, 41, 48, 53, 53, 42, 45,\n",
       "       57, 52, 46, 52, 58, 49, 43, 48, 47, 55, 49, 46, 57, 54, 39, 47, 57,\n",
       "       59, 52, 59, 49, 52, 45, 59, 52, 50, 48, 48, 44, 54, 46, 47, 52, 49,\n",
       "       57, 48, 48, 53, 50, 47, 47, 41, 48, 58, 54, 42, 53, 53, 52, 47, 43,\n",
       "       50, 39, 54, 52, 49, 56, 43, 57, 48, 53, 53, 52, 51, 54, 48, 49, 44,\n",
       "       50, 61, 55, 51, 49, 46, 48, 50, 42, 46, 46, 46, 53, 49],\n",
       "      dtype=int64)"
      ]
     },
     "execution_count": 3,
     "metadata": {},
     "output_type": "execute_result"
    }
   ],
   "source": [
    "# n = number of trials\n",
    "# p = probability of each trial\n",
    "n = 100\n",
    "p = 0.5\n",
    "\n",
    "coinflip = rng.binomial(n, p, 1000)\n",
    "coinflip"
   ]
  },
  {
   "cell_type": "markdown",
   "metadata": {},
   "source": [
    "Given that the probability of flipping a coin and whether it lands on heads or tails is 50/50. What may be suggested from such an inference is that, upon flipping a coin 100 times its probability of landing on heads 50 times is relatively high, due to the 50/50 nature of a coin toss.\n",
    "\n",
    "The depiction of the data itself mimics that of a bell curve.\n",
    "The plot below depicts through the usage of a histogram [2] and a kernal density estimate plot [3], the concept that out of 100 coin tosses, values closer to 50 are to be expected and values closer to 0 and 100 are less likely to be found.\n",
    "\n",
    "E.g. instances of tossing a coin 100 times and not landing on heads once is quite rare, as so is the constrasting outcome of tossing a coin and landing on heads 100 times."
   ]
  },
  {
   "cell_type": "code",
   "execution_count": 4,
   "metadata": {},
   "outputs": [
    {
     "data": {
      "text/plain": [
       "<AxesSubplot:ylabel='Count'>"
      ]
     },
     "execution_count": 4,
     "metadata": {},
     "output_type": "execute_result"
    },
    {
     "data": {
      "image/png": "[encoded data removed]",
      "text/plain": [
       "<Figure size 432x288 with 1 Axes>"
      ]
     },
     "metadata": {
      "needs_background": "light"
     },
     "output_type": "display_data"
    }
   ],
   "source": [
    "#Importation of seaborn and data depicting number of times the coin landed on heads. i.e. variable coinflip\n",
    "import seaborn as sns\n",
    "sns.histplot(coinflip, kde=True)"
   ]
  },
  {
   "cell_type": "markdown",
   "metadata": {},
   "source": [
    "### References\n",
    "[1] NumPy.random.binomial, NumPy v1.19 Manual; https://numpy.org/doc/stable/reference/random/generated/numpy.random.binomial.html\n",
    "\n",
    "[2] Seabron.histplot, seaborn documentation; https://seaborn.pydata.org/generated/seaborn.histplot.html#seaborn.histplot\n",
    "\n",
    "[3] Seaborn.kdeplot, seaborn documentation; https://seaborn.pydata.org/generated/seaborn.kdeplot.html#seaborn.kdeplot"
   ]
  },
  {
   "cell_type": "code",
   "execution_count": null,
   "metadata": {},
   "outputs": [],
   "source": []
  }
 ],
 "metadata": {
  "kernelspec": {
   "display_name": "Python 3",
   "language": "python",
   "name": "python3"
  },
  "language_info": {
   "codemirror_mode": {
    "name": "ipython",
    "version": 3
   },
   "file_extension": ".py",
   "mimetype": "text/x-python",
   "name": "python",
   "nbconvert_exporter": "python",
   "pygments_lexer": "ipython3",
   "version": "3.8.5"
  }
 },
 "nbformat": 4,
 "nbformat_minor": 4
}
